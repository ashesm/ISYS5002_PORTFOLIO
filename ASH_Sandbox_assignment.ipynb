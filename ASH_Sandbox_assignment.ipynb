{
  "nbformat": 4,
  "nbformat_minor": 0,
  "metadata": {
    "colab": {
      "name": "ASH.Sandbox_assignment.ipynb",
      "provenance": [],
      "authorship_tag": "ABX9TyNFGYWC628mCKYzokeDoZqU",
      "include_colab_link": true
    },
    "kernelspec": {
      "name": "python3",
      "display_name": "Python 3"
    },
    "language_info": {
      "name": "python"
    }
  },
  "cells": [
    {
      "cell_type": "markdown",
      "metadata": {
        "id": "view-in-github",
        "colab_type": "text"
      },
      "source": [
        "<a href=\"https://colab.research.google.com/github/ashesm/ISYS5002_PORTFOLIO/blob/main/ASH_Sandbox_assignment.ipynb\" target=\"_parent\"><img src=\"https://colab.research.google.com/assets/colab-badge.svg\" alt=\"Open In Colab\"/></a>"
      ]
    },
    {
      "cell_type": "markdown",
      "metadata": {
        "id": "R0cXstX2DdIm"
      },
      "source": [
        "### Assignment\n",
        "Write a notebook that prompts the user for a company's stock market ticker symbol. Your program then\n",
        "scrapes the Yahoo Finance website to extract information on the key Executive of the company. Then for each\n",
        "executive calculate the expected income tax based on the ATO tax tables. The user can choose if the data\n",
        "will be saved as a CSV and/or stored in an SQLite database."
      ]
    },
    {
      "cell_type": "markdown",
      "metadata": {
        "id": "ruBzJp0ZHbgf"
      },
      "source": [
        "# Input\n",
        "*Input a ticker symbol \n",
        "\n",
        "Note: To prompt the user i will need to use the input() function\n",
        "\n",
        "# Processing\n",
        "\n",
        "* Scrape the Yahoo Website\n",
        "* Extract the 'Key Executive'\n",
        "\n",
        "** To Do: Find YahooFinance Website\n",
        "** Find the 'Key Executives'\n",
        "\n",
        "# Outputs\n",
        "\n",
        "* SAve to CSV files\n",
        "* Save to SQL database"
      ]
    },
    {
      "cell_type": "markdown",
      "metadata": {
        "id": "R2hVI9KDJQL8"
      },
      "source": [
        ""
      ]
    },
    {
      "cell_type": "markdown",
      "metadata": {
        "id": "lFPZqESTDJM6"
      },
      "source": [
        "# Exploring the assignment\n",
        "\n",
        "[Yahoo Finance] (https://au.finance.yahoo.com/)\n",
        "\n",
        "## Inputs\n",
        "Prompt for a ticker symbol\n",
        "* Find out what is a ticker symbol?\n",
        "\n",
        "## Processing\n",
        "\n",
        "* Get income from webpage. which page\n",
        "* Calculate tax (using income)\n",
        "\n",
        "## Outputs\n",
        "* Save to CSV file (How Use CSV or Pandas?)\n",
        "* Save to SQLte( See week on database)\n",
        "\n",
        "# what is ticker?\n",
        "ticker can be for any company\n",
        "Once find the page BHP.AX the profile page is\n",
        "https://au.finance.yahoo.com/quote/BHP.AX/profile?p=BHP.AX&.tsrc=fin-srch\n",
        "\n",
        "NAB.AX\n",
        "https://au.finance.yahoo.com/quote/NAB.AX/profile?p=NAB.AX&.tsrc=fin-srch\n",
        "\n",
        "Col.AX(Coles Group)\n",
        "\n",
        "https://au.finance.yahoo.com/quote/COL.AX/profile?p=COL.AX&.tsrc=fin-srch\n",
        "\n",
        "\n",
        "\n",
        "Interesting, the ticker symbol appears twise in URL\n",
        "\n",
        "i Will need to create a template or something that i can add the ticker symbol to\n",
        "\n",
        "TODO : work out how to add a ticker symbol to URL"
      ]
    }
  ]
}