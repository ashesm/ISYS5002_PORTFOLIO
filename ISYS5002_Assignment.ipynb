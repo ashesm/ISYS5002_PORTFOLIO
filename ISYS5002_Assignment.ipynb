{
  "nbformat": 4,
  "nbformat_minor": 0,
  "metadata": {
    "colab": {
      "name": "ISYS5002_Assignment.ipynb",
      "provenance": [],
      "collapsed_sections": [],
      "authorship_tag": "ABX9TyOTBp4fBs7coxzQL3dbaHQE",
      "include_colab_link": true
    },
    "kernelspec": {
      "name": "python3",
      "display_name": "Python 3"
    },
    "language_info": {
      "name": "python"
    }
  },
  "cells": [
    {
      "cell_type": "markdown",
      "metadata": {
        "id": "view-in-github",
        "colab_type": "text"
      },
      "source": [
        "<a href=\"https://colab.research.google.com/github/ashesm/ISYS5002_PORTFOLIO/blob/main/ISYS5002_Assignment.ipynb\" target=\"_parent\"><img src=\"https://colab.research.google.com/assets/colab-badge.svg\" alt=\"Open In Colab\"/></a>"
      ]
    },
    {
      "cell_type": "code",
      "metadata": {
        "id": "F3gcCdc3i-hC"
      },
      "source": [
        "import pandas as pd\n",
        "from pandas_datareader import data as pdr\n",
        "\n"
      ],
      "execution_count": null,
      "outputs": []
    },
    {
      "cell_type": "markdown",
      "metadata": {
        "id": "bot6s8ydBl6r"
      },
      "source": [
        ""
      ]
    },
    {
      "cell_type": "code",
      "metadata": {
        "id": "Kd18z0Z0mN_G"
      },
      "source": [
        "tickers = ['KEY']"
      ],
      "execution_count": null,
      "outputs": []
    },
    {
      "cell_type": "markdown",
      "metadata": {
        "id": "MjCHfu1RBuVB"
      },
      "source": [
        "# Exploring the assignment\n",
        "\n",
        "[Yahoo Finance] (https://au.finance.yahoo.com/)\n",
        "\n",
        "## Inputs\n",
        "Prompt for a ticker symbol\n",
        "* Find out what is a ticker symbol?\n",
        "\n",
        "## Processing\n",
        "\n",
        "* Get income from webpage. which page\n",
        "* Calculate tax (using income)\n",
        "\n",
        "## Outputs\n",
        "* Save to CSV file (How Use CSV or Pandas?)\n",
        "* Save to SQLte( See week on database)"
      ]
    },
    {
      "cell_type": "code",
      "metadata": {
        "id": "nqvL716uoj3d"
      },
      "source": [
        "!pip install yfinance\n",
        "import yfinance as yfin\n",
        "yfin.pdr_override()"
      ],
      "execution_count": null,
      "outputs": []
    },
    {
      "cell_type": "code",
      "metadata": {
        "colab": {
          "base_uri": "https://localhost:8080/"
        },
        "id": "oT4gKmm8o_yR",
        "outputId": "eef1f557-7a8e-46da-8d2f-1facaaafdbc2"
      },
      "source": [
        "df = pdr.get_data_yahoo(tickers)"
      ],
      "execution_count": null,
      "outputs": [
        {
          "output_type": "stream",
          "name": "stdout",
          "text": [
            "\r[*********************100%***********************]  1 of 1 completed\n"
          ]
        }
      ]
    },
    {
      "cell_type": "code",
      "metadata": {
        "colab": {
          "base_uri": "https://localhost:8080/"
        },
        "id": "EObMm6BKqJFf",
        "outputId": "3c6138be-0258-424d-b1df-1eec229dd046"
      },
      "source": [
        "df.index, df.columns"
      ],
      "execution_count": null,
      "outputs": [
        {
          "output_type": "execute_result",
          "data": {
            "text/plain": [
              "(DatetimeIndex(['1987-11-05', '1987-11-06', '1987-11-09', '1987-11-10',\n",
              "                '1987-11-11', '1987-11-12', '1987-11-13', '1987-11-16',\n",
              "                '1987-11-17', '1987-11-18',\n",
              "                ...\n",
              "                '2021-09-27', '2021-09-28', '2021-09-29', '2021-09-30',\n",
              "                '2021-10-01', '2021-10-04', '2021-10-05', '2021-10-06',\n",
              "                '2021-10-07', '2021-10-08'],\n",
              "               dtype='datetime64[ns]', name='Date', length=8550, freq=None),\n",
              " Index(['Open', 'High', 'Low', 'Close', 'Adj Close', 'Volume'], dtype='object'))"
            ]
          },
          "metadata": {},
          "execution_count": 9
        }
      ]
    },
    {
      "cell_type": "markdown",
      "metadata": {
        "id": "YrjQ-hE6qoxl"
      },
      "source": [
        ""
      ]
    },
    {
      "cell_type": "code",
      "metadata": {
        "colab": {
          "base_uri": "https://localhost:8080/"
        },
        "id": "u95eRMjzq7Vu",
        "outputId": "7fb17b40-7995-44ed-c7c3-9a057c127693"
      },
      "source": [
        "df.columns"
      ],
      "execution_count": null,
      "outputs": [
        {
          "output_type": "execute_result",
          "data": {
            "text/plain": [
              "Index(['Open', 'High', 'Low', 'Close', 'Adj Close', 'Volume'], dtype='object')"
            ]
          },
          "metadata": {},
          "execution_count": 10
        }
      ]
    },
    {
      "cell_type": "code",
      "metadata": {
        "colab": {
          "base_uri": "https://localhost:8080/",
          "height": 238
        },
        "id": "o-yA13cYrDsG",
        "outputId": "bd819d50-7e97-4735-efd4-cee1f2f84a43"
      },
      "source": [
        "df.head()"
      ],
      "execution_count": null,
      "outputs": [
        {
          "output_type": "execute_result",
          "data": {
            "text/html": [
              "<div>\n",
              "<style scoped>\n",
              "    .dataframe tbody tr th:only-of-type {\n",
              "        vertical-align: middle;\n",
              "    }\n",
              "\n",
              "    .dataframe tbody tr th {\n",
              "        vertical-align: top;\n",
              "    }\n",
              "\n",
              "    .dataframe thead th {\n",
              "        text-align: right;\n",
              "    }\n",
              "</style>\n",
              "<table border=\"1\" class=\"dataframe\">\n",
              "  <thead>\n",
              "    <tr style=\"text-align: right;\">\n",
              "      <th></th>\n",
              "      <th>Open</th>\n",
              "      <th>High</th>\n",
              "      <th>Low</th>\n",
              "      <th>Close</th>\n",
              "      <th>Adj Close</th>\n",
              "      <th>Volume</th>\n",
              "    </tr>\n",
              "    <tr>\n",
              "      <th>Date</th>\n",
              "      <th></th>\n",
              "      <th></th>\n",
              "      <th></th>\n",
              "      <th></th>\n",
              "      <th></th>\n",
              "      <th></th>\n",
              "    </tr>\n",
              "  </thead>\n",
              "  <tbody>\n",
              "    <tr>\n",
              "      <th>1987-11-05</th>\n",
              "      <td>6.154910</td>\n",
              "      <td>6.189488</td>\n",
              "      <td>6.085754</td>\n",
              "      <td>6.120332</td>\n",
              "      <td>1.813720</td>\n",
              "      <td>55310</td>\n",
              "    </tr>\n",
              "    <tr>\n",
              "      <th>1987-11-06</th>\n",
              "      <td>6.154910</td>\n",
              "      <td>6.224066</td>\n",
              "      <td>6.120332</td>\n",
              "      <td>6.120332</td>\n",
              "      <td>1.813720</td>\n",
              "      <td>212201</td>\n",
              "    </tr>\n",
              "    <tr>\n",
              "      <th>1987-11-09</th>\n",
              "      <td>6.085754</td>\n",
              "      <td>6.154910</td>\n",
              "      <td>5.947441</td>\n",
              "      <td>5.947441</td>\n",
              "      <td>1.762484</td>\n",
              "      <td>107727</td>\n",
              "    </tr>\n",
              "    <tr>\n",
              "      <th>1987-11-10</th>\n",
              "      <td>6.016598</td>\n",
              "      <td>6.154910</td>\n",
              "      <td>5.947441</td>\n",
              "      <td>6.120332</td>\n",
              "      <td>1.813720</td>\n",
              "      <td>61816</td>\n",
              "    </tr>\n",
              "    <tr>\n",
              "      <th>1987-11-11</th>\n",
              "      <td>6.016598</td>\n",
              "      <td>6.189488</td>\n",
              "      <td>6.016598</td>\n",
              "      <td>6.120332</td>\n",
              "      <td>1.813720</td>\n",
              "      <td>65793</td>\n",
              "    </tr>\n",
              "  </tbody>\n",
              "</table>\n",
              "</div>"
            ],
            "text/plain": [
              "                Open      High       Low     Close  Adj Close  Volume\n",
              "Date                                                                 \n",
              "1987-11-05  6.154910  6.189488  6.085754  6.120332   1.813720   55310\n",
              "1987-11-06  6.154910  6.224066  6.120332  6.120332   1.813720  212201\n",
              "1987-11-09  6.085754  6.154910  5.947441  5.947441   1.762484  107727\n",
              "1987-11-10  6.016598  6.154910  5.947441  6.120332   1.813720   61816\n",
              "1987-11-11  6.016598  6.189488  6.016598  6.120332   1.813720   65793"
            ]
          },
          "metadata": {},
          "execution_count": 11
        }
      ]
    },
    {
      "cell_type": "code",
      "metadata": {
        "id": "ZejrMql1sqnd"
      },
      "source": [
        "!pip install kora -q\n",
        "from bs4 import BeautifulSoup\n",
        "from kora.selenium import wd"
      ],
      "execution_count": null,
      "outputs": []
    },
    {
      "cell_type": "code",
      "metadata": {
        "id": "-l0ZbUeztVV9"
      },
      "source": [
        "URL = 'https://au.finance.yahoo.com/quote/KEY/profile?p=KEY'\n",
        "wd.get(URL)"
      ],
      "execution_count": null,
      "outputs": []
    },
    {
      "cell_type": "code",
      "metadata": {
        "colab": {
          "base_uri": "https://localhost:8080/"
        },
        "id": "yeIed__w1DfI",
        "outputId": "a1f836f0-85f3-4e48-d010-5bdf6fff1962"
      },
      "source": [
        "soup = BeautifulSoup(wd.page_source, 'html.parser')\n",
        "\n",
        "tables = soup.find_all('table')\n",
        "len(tables)"
      ],
      "execution_count": null,
      "outputs": [
        {
          "output_type": "execute_result",
          "data": {
            "text/plain": [
              "1"
            ]
          },
          "metadata": {},
          "execution_count": 17
        }
      ]
    },
    {
      "cell_type": "code",
      "metadata": {
        "id": "G4GySHLw2PGR"
      },
      "source": [
        "tbody = tables[0].find('tbody')"
      ],
      "execution_count": null,
      "outputs": []
    },
    {
      "cell_type": "code",
      "metadata": {
        "colab": {
          "base_uri": "https://localhost:8080/"
        },
        "id": "rjdEtTmR2dJG",
        "outputId": "6ffd352e-30ee-4e2e-a9de-cf5fea00ce8e"
      },
      "source": [
        "tbody.find_all('tr')"
      ],
      "execution_count": null,
      "outputs": [
        {
          "output_type": "execute_result",
          "data": {
            "text/plain": [
              "[<tr class=\"C($primaryColor) BdB Bdc($seperatorColor) H(36px)\" data-reactid=\"48\"><td class=\"Ta(start)\" data-reactid=\"49\"><span class=\"\" data-reactid=\"50\"><!-- react-text: 51 -->Mr. Christopher Marrott Gorman<!-- /react-text --></span></td><td class=\"Ta(start) W(45%)\" data-reactid=\"52\"><span class=\"\" data-reactid=\"53\"><!-- react-text: 54 -->Chairman, Pres &amp; CEO<!-- /react-text --></span></td><td class=\"Ta(end)\" data-reactid=\"55\"><span class=\"\" data-reactid=\"56\"><!-- react-text: 57 -->2.67M<!-- /react-text --></span></td><td class=\"Ta(end)\" data-reactid=\"58\"><span class=\"\" data-reactid=\"59\"><!-- react-text: 60 -->84.8k<!-- /react-text --></span></td><td class=\"Ta(end)\" data-reactid=\"61\"><span class=\"\" data-reactid=\"62\"><!-- react-text: 63 -->1961<!-- /react-text --></span></td></tr>,\n",
              " <tr class=\"C($primaryColor) BdB Bdc($seperatorColor) H(36px)\" data-reactid=\"64\"><td class=\"Ta(start)\" data-reactid=\"65\"><span class=\"\" data-reactid=\"66\"><!-- react-text: 67 -->Mr. Donald R. Kimble Jr.<!-- /react-text --></span></td><td class=\"Ta(start) W(45%)\" data-reactid=\"68\"><span class=\"\" data-reactid=\"69\"><!-- react-text: 70 -->CFO &amp; Chief Admin. Officer<!-- /react-text --></span></td><td class=\"Ta(end)\" data-reactid=\"71\"><span class=\"\" data-reactid=\"72\"><!-- react-text: 73 -->2.72M<!-- /react-text --></span></td><td class=\"Ta(end)\" data-reactid=\"74\"><span class=\"\" data-reactid=\"75\"><span data-reactid=\"76\">N/A</span></span></td><td class=\"Ta(end)\" data-reactid=\"77\"><span class=\"\" data-reactid=\"78\"><!-- react-text: 79 -->1960<!-- /react-text --></span></td></tr>,\n",
              " <tr class=\"C($primaryColor) BdB Bdc($seperatorColor) H(36px)\" data-reactid=\"80\"><td class=\"Ta(start)\" data-reactid=\"81\"><span class=\"\" data-reactid=\"82\"><!-- react-text: 83 -->Ms. Amy G. Brady<!-- /react-text --></span></td><td class=\"Ta(start) W(45%)\" data-reactid=\"84\"><span class=\"\" data-reactid=\"85\"><!-- react-text: 86 -->Chief Information Officer &amp; Exec. VP<!-- /react-text --></span></td><td class=\"Ta(end)\" data-reactid=\"87\"><span class=\"\" data-reactid=\"88\"><!-- react-text: 89 -->1.8M<!-- /react-text --></span></td><td class=\"Ta(end)\" data-reactid=\"90\"><span class=\"\" data-reactid=\"91\"><span data-reactid=\"92\">N/A</span></span></td><td class=\"Ta(end)\" data-reactid=\"93\"><span class=\"\" data-reactid=\"94\"><!-- react-text: 95 -->1967<!-- /react-text --></span></td></tr>,\n",
              " <tr class=\"C($primaryColor) BdB Bdc($seperatorColor) H(36px)\" data-reactid=\"96\"><td class=\"Ta(start)\" data-reactid=\"97\"><span class=\"\" data-reactid=\"98\"><!-- react-text: 99 -->Mr. Andrew Jackson Paine III<!-- /react-text --></span></td><td class=\"Ta(start) W(45%)\" data-reactid=\"100\"><span class=\"\" data-reactid=\"101\"><!-- react-text: 102 -->Exec. VP &amp; Pres of Key Institutional Bank<!-- /react-text --></span></td><td class=\"Ta(end)\" data-reactid=\"103\"><span class=\"\" data-reactid=\"104\"><!-- react-text: 105 -->2.07M<!-- /react-text --></span></td><td class=\"Ta(end)\" data-reactid=\"106\"><span class=\"\" data-reactid=\"107\"><span data-reactid=\"108\">N/A</span></span></td><td class=\"Ta(end)\" data-reactid=\"109\"><span class=\"\" data-reactid=\"110\"><!-- react-text: 111 -->1970<!-- /react-text --></span></td></tr>,\n",
              " <tr class=\"C($primaryColor) BdB Bdc($seperatorColor) H(36px)\" data-reactid=\"112\"><td class=\"Ta(start)\" data-reactid=\"113\"><span class=\"\" data-reactid=\"114\"><!-- react-text: 115 -->Ms. Angela G. Mago<!-- /react-text --></span></td><td class=\"Ta(start) W(45%)\" data-reactid=\"116\"><span class=\"\" data-reactid=\"117\"><!-- react-text: 118 -->Head of Commercial Bank<!-- /react-text --></span></td><td class=\"Ta(end)\" data-reactid=\"119\"><span class=\"\" data-reactid=\"120\"><!-- react-text: 121 -->1.77M<!-- /react-text --></span></td><td class=\"Ta(end)\" data-reactid=\"122\"><span class=\"\" data-reactid=\"123\"><!-- react-text: 124 -->14.73k<!-- /react-text --></span></td><td class=\"Ta(end)\" data-reactid=\"125\"><span class=\"\" data-reactid=\"126\"><!-- react-text: 127 -->1966<!-- /react-text --></span></td></tr>,\n",
              " <tr class=\"C($primaryColor) BdB Bdc($seperatorColor) H(36px)\" data-reactid=\"128\"><td class=\"Ta(start)\" data-reactid=\"129\"><span class=\"\" data-reactid=\"130\"><!-- react-text: 131 -->Mr. Douglas M. Schosser CPA<!-- /react-text --></span></td><td class=\"Ta(start) W(45%)\" data-reactid=\"132\"><span class=\"\" data-reactid=\"133\"><!-- react-text: 134 -->Chief Accounting Officer &amp; Exec. Officer<!-- /react-text --></span></td><td class=\"Ta(end)\" data-reactid=\"135\"><span class=\"\" data-reactid=\"136\"><span data-reactid=\"137\">N/A</span></span></td><td class=\"Ta(end)\" data-reactid=\"138\"><span class=\"\" data-reactid=\"139\"><span data-reactid=\"140\">N/A</span></span></td><td class=\"Ta(end)\" data-reactid=\"141\"><span class=\"\" data-reactid=\"142\"><!-- react-text: 143 -->1970<!-- /react-text --></span></td></tr>,\n",
              " <tr class=\"C($primaryColor) BdB Bdc($seperatorColor) H(36px)\" data-reactid=\"144\"><td class=\"Ta(start)\" data-reactid=\"145\"><span class=\"\" data-reactid=\"146\"><!-- react-text: 147 -->Mr. Vernon L. Patterson<!-- /react-text --></span></td><td class=\"Ta(start) W(45%)\" data-reactid=\"148\"><span class=\"\" data-reactid=\"149\"><!-- react-text: 150 -->Exec. VP of Investor Relations<!-- /react-text --></span></td><td class=\"Ta(end)\" data-reactid=\"151\"><span class=\"\" data-reactid=\"152\"><span data-reactid=\"153\">N/A</span></span></td><td class=\"Ta(end)\" data-reactid=\"154\"><span class=\"\" data-reactid=\"155\"><span data-reactid=\"156\">N/A</span></span></td><td class=\"Ta(end)\" data-reactid=\"157\"><span class=\"\" data-reactid=\"158\"><span data-reactid=\"159\">N/A</span></span></td></tr>,\n",
              " <tr class=\"C($primaryColor) BdB Bdc($seperatorColor) H(36px)\" data-reactid=\"160\"><td class=\"Ta(start)\" data-reactid=\"161\"><span class=\"\" data-reactid=\"162\"><!-- react-text: 163 -->Mr. James L. Waters J.D.<!-- /react-text --></span></td><td class=\"Ta(start) W(45%)\" data-reactid=\"164\"><span class=\"\" data-reactid=\"165\"><!-- react-text: 166 -->Gen. Counsel &amp; Corp. Sec.<!-- /react-text --></span></td><td class=\"Ta(end)\" data-reactid=\"167\"><span class=\"\" data-reactid=\"168\"><span data-reactid=\"169\">N/A</span></span></td><td class=\"Ta(end)\" data-reactid=\"170\"><span class=\"\" data-reactid=\"171\"><span data-reactid=\"172\">N/A</span></span></td><td class=\"Ta(end)\" data-reactid=\"173\"><span class=\"\" data-reactid=\"174\"><!-- react-text: 175 -->1967<!-- /react-text --></span></td></tr>,\n",
              " <tr class=\"C($primaryColor) BdB Bdc($seperatorColor) H(36px)\" data-reactid=\"176\"><td class=\"Ta(start)\" data-reactid=\"177\"><span class=\"\" data-reactid=\"178\"><!-- react-text: 179 -->Ms. Susan E. Donlan<!-- /react-text --></span></td><td class=\"Ta(start) W(45%)\" data-reactid=\"180\"><span class=\"\" data-reactid=\"181\"><!-- react-text: 182 -->Chief Communications Officer<!-- /react-text --></span></td><td class=\"Ta(end)\" data-reactid=\"183\"><span class=\"\" data-reactid=\"184\"><span data-reactid=\"185\">N/A</span></span></td><td class=\"Ta(end)\" data-reactid=\"186\"><span class=\"\" data-reactid=\"187\"><span data-reactid=\"188\">N/A</span></span></td><td class=\"Ta(end)\" data-reactid=\"189\"><span class=\"\" data-reactid=\"190\"><span data-reactid=\"191\">N/A</span></span></td></tr>,\n",
              " <tr class=\"C($primaryColor) BdB Bdc($seperatorColor) H(36px)\" data-reactid=\"192\"><td class=\"Ta(start)\" data-reactid=\"193\"><span class=\"\" data-reactid=\"194\"><!-- react-text: 195 -->Mr. Brian L. Fishel<!-- /react-text --></span></td><td class=\"Ta(start) W(45%)\" data-reactid=\"196\"><span class=\"\" data-reactid=\"197\"><!-- react-text: 198 -->Chief Human Resource Officer &amp; Exec. VP<!-- /react-text --></span></td><td class=\"Ta(end)\" data-reactid=\"199\"><span class=\"\" data-reactid=\"200\"><span data-reactid=\"201\">N/A</span></span></td><td class=\"Ta(end)\" data-reactid=\"202\"><span class=\"\" data-reactid=\"203\"><span data-reactid=\"204\">N/A</span></span></td><td class=\"Ta(end)\" data-reactid=\"205\"><span class=\"\" data-reactid=\"206\"><!-- react-text: 207 -->1966<!-- /react-text --></span></td></tr>]"
            ]
          },
          "metadata": {},
          "execution_count": 20
        }
      ]
    },
    {
      "cell_type": "code",
      "metadata": {
        "colab": {
          "base_uri": "https://localhost:8080/",
          "height": 36
        },
        "id": "TALvSV9u2lmF",
        "outputId": "008bdb89-4227-47be-df31-548101f3fc66"
      },
      "source": [
        "tbody.find_all('tr')[0].text"
      ],
      "execution_count": null,
      "outputs": [
        {
          "output_type": "execute_result",
          "data": {
            "application/vnd.google.colaboratory.intrinsic+json": {
              "type": "string"
            },
            "text/plain": [
              "'Mr. Christopher Marrott GormanChairman, Pres & CEO2.67M84.8k1961'"
            ]
          },
          "metadata": {},
          "execution_count": 23
        }
      ]
    },
    {
      "cell_type": "code",
      "metadata": {
        "id": "WuohYAEe3Ak1"
      },
      "source": [
        "rows = tbody.find_all('tr')"
      ],
      "execution_count": null,
      "outputs": []
    },
    {
      "cell_type": "code",
      "metadata": {
        "id": "zNef9R_m3IuE"
      },
      "source": [
        "columns = rows[0].find_all('td')"
      ],
      "execution_count": null,
      "outputs": []
    },
    {
      "cell_type": "code",
      "metadata": {
        "colab": {
          "base_uri": "https://localhost:8080/",
          "height": 36
        },
        "id": "rBiSUzqP3U6y",
        "outputId": "23aaf7fb-a45c-48b6-ebc4-ff7388281c0f"
      },
      "source": [
        "columns[0].text"
      ],
      "execution_count": null,
      "outputs": [
        {
          "output_type": "execute_result",
          "data": {
            "application/vnd.google.colaboratory.intrinsic+json": {
              "type": "string"
            },
            "text/plain": [
              "'Mr. Christopher Marrott Gorman'"
            ]
          },
          "metadata": {},
          "execution_count": 28
        }
      ]
    },
    {
      "cell_type": "code",
      "metadata": {
        "colab": {
          "base_uri": "https://localhost:8080/"
        },
        "id": "XmOaifEL3mH6",
        "outputId": "7d60b635-3901-47df-fe9a-13b306079e81"
      },
      "source": [
        "tables = soup.find_all('table')\n",
        "for table in tables:\n",
        "  body = table.find('tbody')\n",
        "  rows = body.find_all(\"tr\")\n",
        "  for row in rows:\n",
        "    data = row.find_all('td')\n",
        "    for txt in data:\n",
        "      print(txt.text)\n",
        "    print()\n",
        "    "
      ],
      "execution_count": null,
      "outputs": [
        {
          "output_type": "stream",
          "name": "stdout",
          "text": [
            "Mr. Christopher Marrott Gorman\n",
            "Chairman, Pres & CEO\n",
            "2.67M\n",
            "84.8k\n",
            "1961\n",
            "\n",
            "Mr. Donald R. Kimble Jr.\n",
            "CFO & Chief Admin. Officer\n",
            "2.72M\n",
            "N/A\n",
            "1960\n",
            "\n",
            "Ms. Amy G. Brady\n",
            "Chief Information Officer & Exec. VP\n",
            "1.8M\n",
            "N/A\n",
            "1967\n",
            "\n",
            "Mr. Andrew Jackson Paine III\n",
            "Exec. VP & Pres of Key Institutional Bank\n",
            "2.07M\n",
            "N/A\n",
            "1970\n",
            "\n",
            "Ms. Angela G. Mago\n",
            "Head of Commercial Bank\n",
            "1.77M\n",
            "14.73k\n",
            "1966\n",
            "\n",
            "Mr. Douglas M. Schosser CPA\n",
            "Chief Accounting Officer & Exec. Officer\n",
            "N/A\n",
            "N/A\n",
            "1970\n",
            "\n",
            "Mr. Vernon L. Patterson\n",
            "Exec. VP of Investor Relations\n",
            "N/A\n",
            "N/A\n",
            "N/A\n",
            "\n",
            "Mr. James L. Waters J.D.\n",
            "Gen. Counsel & Corp. Sec.\n",
            "N/A\n",
            "N/A\n",
            "1967\n",
            "\n",
            "Ms. Susan E. Donlan\n",
            "Chief Communications Officer\n",
            "N/A\n",
            "N/A\n",
            "N/A\n",
            "\n",
            "Mr. Brian L. Fishel\n",
            "Chief Human Resource Officer & Exec. VP\n",
            "N/A\n",
            "N/A\n",
            "1966\n",
            "\n"
          ]
        }
      ]
    },
    {
      "cell_type": "code",
      "metadata": {
        "colab": {
          "base_uri": "https://localhost:8080/"
        },
        "id": "MRIuSyxw5sRp",
        "outputId": "d84d4413-000a-4f79-be14-49057d649a31"
      },
      "source": [
        "# panda way whuch we shouldnt use this way \n",
        "tables_as_df = pd.read_html(wd.page_source)\n",
        "len(tables_as_df)"
      ],
      "execution_count": null,
      "outputs": [
        {
          "output_type": "execute_result",
          "data": {
            "text/plain": [
              "1"
            ]
          },
          "metadata": {},
          "execution_count": 32
        }
      ]
    },
    {
      "cell_type": "code",
      "metadata": {
        "colab": {
          "base_uri": "https://localhost:8080/",
          "height": 363
        },
        "id": "ywpYwnl36Bez",
        "outputId": "b48c8ec0-e956-4c0b-8a6b-199212dd4571"
      },
      "source": [
        "tables_as_df[0]"
      ],
      "execution_count": null,
      "outputs": [
        {
          "output_type": "execute_result",
          "data": {
            "text/html": [
              "<div>\n",
              "<style scoped>\n",
              "    .dataframe tbody tr th:only-of-type {\n",
              "        vertical-align: middle;\n",
              "    }\n",
              "\n",
              "    .dataframe tbody tr th {\n",
              "        vertical-align: top;\n",
              "    }\n",
              "\n",
              "    .dataframe thead th {\n",
              "        text-align: right;\n",
              "    }\n",
              "</style>\n",
              "<table border=\"1\" class=\"dataframe\">\n",
              "  <thead>\n",
              "    <tr style=\"text-align: right;\">\n",
              "      <th></th>\n",
              "      <th>Name</th>\n",
              "      <th>Title</th>\n",
              "      <th>Pay</th>\n",
              "      <th>Exercised</th>\n",
              "      <th>Year born</th>\n",
              "    </tr>\n",
              "  </thead>\n",
              "  <tbody>\n",
              "    <tr>\n",
              "      <th>0</th>\n",
              "      <td>Mr. Christopher Marrott Gorman</td>\n",
              "      <td>Chairman, Pres &amp; CEO</td>\n",
              "      <td>2.67M</td>\n",
              "      <td>84.8k</td>\n",
              "      <td>1961.0</td>\n",
              "    </tr>\n",
              "    <tr>\n",
              "      <th>1</th>\n",
              "      <td>Mr. Donald R. Kimble Jr.</td>\n",
              "      <td>CFO &amp; Chief Admin. Officer</td>\n",
              "      <td>2.72M</td>\n",
              "      <td>NaN</td>\n",
              "      <td>1960.0</td>\n",
              "    </tr>\n",
              "    <tr>\n",
              "      <th>2</th>\n",
              "      <td>Ms. Amy G. Brady</td>\n",
              "      <td>Chief Information Officer &amp; Exec. VP</td>\n",
              "      <td>1.8M</td>\n",
              "      <td>NaN</td>\n",
              "      <td>1967.0</td>\n",
              "    </tr>\n",
              "    <tr>\n",
              "      <th>3</th>\n",
              "      <td>Mr. Andrew Jackson Paine III</td>\n",
              "      <td>Exec. VP &amp; Pres of Key Institutional Bank</td>\n",
              "      <td>2.07M</td>\n",
              "      <td>NaN</td>\n",
              "      <td>1970.0</td>\n",
              "    </tr>\n",
              "    <tr>\n",
              "      <th>4</th>\n",
              "      <td>Ms. Angela G. Mago</td>\n",
              "      <td>Head of Commercial Bank</td>\n",
              "      <td>1.77M</td>\n",
              "      <td>14.73k</td>\n",
              "      <td>1966.0</td>\n",
              "    </tr>\n",
              "    <tr>\n",
              "      <th>5</th>\n",
              "      <td>Mr. Douglas M. Schosser CPA</td>\n",
              "      <td>Chief Accounting Officer &amp; Exec. Officer</td>\n",
              "      <td>NaN</td>\n",
              "      <td>NaN</td>\n",
              "      <td>1970.0</td>\n",
              "    </tr>\n",
              "    <tr>\n",
              "      <th>6</th>\n",
              "      <td>Mr. Vernon L. Patterson</td>\n",
              "      <td>Exec. VP of Investor Relations</td>\n",
              "      <td>NaN</td>\n",
              "      <td>NaN</td>\n",
              "      <td>NaN</td>\n",
              "    </tr>\n",
              "    <tr>\n",
              "      <th>7</th>\n",
              "      <td>Mr. James L. Waters J.D.</td>\n",
              "      <td>Gen. Counsel &amp; Corp. Sec.</td>\n",
              "      <td>NaN</td>\n",
              "      <td>NaN</td>\n",
              "      <td>1967.0</td>\n",
              "    </tr>\n",
              "    <tr>\n",
              "      <th>8</th>\n",
              "      <td>Ms. Susan E. Donlan</td>\n",
              "      <td>Chief Communications Officer</td>\n",
              "      <td>NaN</td>\n",
              "      <td>NaN</td>\n",
              "      <td>NaN</td>\n",
              "    </tr>\n",
              "    <tr>\n",
              "      <th>9</th>\n",
              "      <td>Mr. Brian L. Fishel</td>\n",
              "      <td>Chief Human Resource Officer &amp; Exec. VP</td>\n",
              "      <td>NaN</td>\n",
              "      <td>NaN</td>\n",
              "      <td>1966.0</td>\n",
              "    </tr>\n",
              "  </tbody>\n",
              "</table>\n",
              "</div>"
            ],
            "text/plain": [
              "                             Name  ... Year born\n",
              "0  Mr. Christopher Marrott Gorman  ...    1961.0\n",
              "1        Mr. Donald R. Kimble Jr.  ...    1960.0\n",
              "2                Ms. Amy G. Brady  ...    1967.0\n",
              "3    Mr. Andrew Jackson Paine III  ...    1970.0\n",
              "4              Ms. Angela G. Mago  ...    1966.0\n",
              "5     Mr. Douglas M. Schosser CPA  ...    1970.0\n",
              "6         Mr. Vernon L. Patterson  ...       NaN\n",
              "7        Mr. James L. Waters J.D.  ...    1967.0\n",
              "8             Ms. Susan E. Donlan  ...       NaN\n",
              "9             Mr. Brian L. Fishel  ...    1966.0\n",
              "\n",
              "[10 rows x 5 columns]"
            ]
          },
          "metadata": {},
          "execution_count": 35
        }
      ]
    },
    {
      "cell_type": "markdown",
      "metadata": {
        "id": "bVMwNyExqHgH"
      },
      "source": [
        "\n",
        "\n",
        "[Resident tax rates 2021–22\n",
        "Taxable income](https://www.ato.gov.au/rates/individual-income-tax-rates/)\n",
        "\n",
        "Income            | Tax on this income \n",
        "------------------|----------------------\n",
        "0 – \\$18,200       | Nil\n",
        "\\$18,201 – \\$45,000 | 19 cents for each \\$1 over \\$18,200\n",
        "\\$45,001 – \\$120,000 | \\$5,092 plus 32.5 cents for each \\$1 over \\$45,000\n",
        "\\$120,001 – \\$180,000 |  \\$29,467 plus 37 cents for each \\$1 over \\$120,000\n",
        "\\$180,001 and over | \\$51,667 plus 45 cents for each \\$1 over \\$180,000\n",
        "\n"
      ]
    },
    {
      "cell_type": "code",
      "metadata": {
        "id": "RAn7PjRP_xib"
      },
      "source": [
        "def get_income():\n",
        "  while True:\n",
        "        try:\n",
        "            income = int(input(\"Please enter your taxable income: \"))\n",
        "        except ValueError:\n",
        "            print(\"Sorry, I didn't understand that please enter taxable income as a number\")\n",
        "            continue\n",
        "        else:\n",
        "            break\n",
        "\n",
        "  return income\n"
      ],
      "execution_count": null,
      "outputs": []
    },
    {
      "cell_type": "code",
      "metadata": {
        "id": "qAJMWaDs-Eip"
      },
      "source": [
        "def calculate_tax(income):\n",
        "  if income <= 18200:\n",
        "   tax_payable = 0\n",
        "  elif 18200 < income <= 45000:\n",
        "   tax_payable = 0.19 * (income - 18200)\n",
        "  elif 45000 < income < 120000:\n",
        "   tax_payable = 5092 + 0.32 * (income - 45000)\n",
        "  elif 120000 < income < 180000:\n",
        "    tax_payable = 29467 +37 * (income - 120000)\n",
        "  elif  income >= 180000:\n",
        "    tax_payable = 51667 +45 * (income - 180000)\n",
        "\n",
        "  return tax_payable"
      ],
      "execution_count": null,
      "outputs": []
    },
    {
      "cell_type": "code",
      "metadata": {
        "colab": {
          "base_uri": "https://localhost:8080/"
        },
        "id": "qjjuhp62APZU",
        "outputId": "a2ae0f00-e4c4-49f8-d254-1b415c3a8b8d"
      },
      "source": [
        "income = get_income()\n",
        "tax = calculate_tax(income)\n",
        "print(\"Your tax payable is \", tax)"
      ],
      "execution_count": null,
      "outputs": [
        {
          "output_type": "stream",
          "name": "stdout",
          "text": [
            "Please enter your taxable income: 3677777777\n",
            "Your tax payable is  165491951632\n"
          ]
        }
      ]
    },
    {
      "cell_type": "code",
      "metadata": {
        "id": "6mVrPBW6PqME"
      },
      "source": [
        "import csv"
      ],
      "execution_count": null,
      "outputs": []
    },
    {
      "cell_type": "code",
      "metadata": {
        "colab": {
          "base_uri": "https://localhost:8080/",
          "height": 1000
        },
        "id": "m0daW-s-bX89",
        "outputId": "b02b8c71-d1e8-41b1-fc8b-e8207e324cfb"
      },
      "source": [
        "pip install requests_html"
      ],
      "execution_count": null,
      "outputs": [
        {
          "output_type": "stream",
          "name": "stdout",
          "text": [
            "Collecting requests_html\n",
            "  Downloading requests_html-0.10.0-py3-none-any.whl (13 kB)\n",
            "Collecting parse\n",
            "  Downloading parse-1.19.0.tar.gz (30 kB)\n",
            "Requirement already satisfied: bs4 in /usr/local/lib/python3.7/dist-packages (from requests_html) (0.0.1)\n",
            "Requirement already satisfied: requests in /usr/local/lib/python3.7/dist-packages (from requests_html) (2.23.0)\n",
            "Collecting w3lib\n",
            "  Downloading w3lib-1.22.0-py2.py3-none-any.whl (20 kB)\n",
            "Collecting pyppeteer>=0.0.14\n",
            "  Downloading pyppeteer-0.2.6-py3-none-any.whl (83 kB)\n",
            "\u001b[K     |████████████████████████████████| 83 kB 2.1 MB/s \n",
            "\u001b[?25hCollecting pyquery\n",
            "  Downloading pyquery-1.4.3-py3-none-any.whl (22 kB)\n",
            "Collecting fake-useragent\n",
            "  Downloading fake-useragent-0.1.11.tar.gz (13 kB)\n",
            "Requirement already satisfied: tqdm<5.0.0,>=4.42.1 in /usr/local/lib/python3.7/dist-packages (from pyppeteer>=0.0.14->requests_html) (4.62.3)\n",
            "Collecting websockets<10.0,>=9.1\n",
            "  Downloading websockets-9.1-cp37-cp37m-manylinux2010_x86_64.whl (103 kB)\n",
            "\u001b[K     |████████████████████████████████| 103 kB 57.3 MB/s \n",
            "\u001b[?25hRequirement already satisfied: importlib-metadata>=1.4 in /usr/local/lib/python3.7/dist-packages (from pyppeteer>=0.0.14->requests_html) (4.8.1)\n",
            "Collecting pyee<9.0.0,>=8.1.0\n",
            "  Downloading pyee-8.2.2-py2.py3-none-any.whl (12 kB)\n",
            "Collecting urllib3<2.0.0,>=1.25.8\n",
            "  Downloading urllib3-1.26.7-py2.py3-none-any.whl (138 kB)\n",
            "\u001b[K     |████████████████████████████████| 138 kB 57.4 MB/s \n",
            "\u001b[?25hRequirement already satisfied: appdirs<2.0.0,>=1.4.3 in /usr/local/lib/python3.7/dist-packages (from pyppeteer>=0.0.14->requests_html) (1.4.4)\n",
            "Requirement already satisfied: zipp>=0.5 in /usr/local/lib/python3.7/dist-packages (from importlib-metadata>=1.4->pyppeteer>=0.0.14->requests_html) (3.6.0)\n",
            "Requirement already satisfied: typing-extensions>=3.6.4 in /usr/local/lib/python3.7/dist-packages (from importlib-metadata>=1.4->pyppeteer>=0.0.14->requests_html) (3.7.4.3)\n",
            "Requirement already satisfied: beautifulsoup4 in /usr/local/lib/python3.7/dist-packages (from bs4->requests_html) (4.6.3)\n",
            "Requirement already satisfied: lxml>=2.1 in /usr/local/lib/python3.7/dist-packages (from pyquery->requests_html) (4.6.3)\n",
            "Collecting cssselect>0.7.9\n",
            "  Downloading cssselect-1.1.0-py2.py3-none-any.whl (16 kB)\n",
            "Requirement already satisfied: idna<3,>=2.5 in /usr/local/lib/python3.7/dist-packages (from requests->requests_html) (2.10)\n",
            "Requirement already satisfied: certifi>=2017.4.17 in /usr/local/lib/python3.7/dist-packages (from requests->requests_html) (2021.5.30)\n",
            "Requirement already satisfied: chardet<4,>=3.0.2 in /usr/local/lib/python3.7/dist-packages (from requests->requests_html) (3.0.4)\n",
            "Collecting urllib3<2.0.0,>=1.25.8\n",
            "  Downloading urllib3-1.25.11-py2.py3-none-any.whl (127 kB)\n",
            "\u001b[K     |████████████████████████████████| 127 kB 54.0 MB/s \n",
            "\u001b[?25hRequirement already satisfied: six>=1.4.1 in /usr/local/lib/python3.7/dist-packages (from w3lib->requests_html) (1.15.0)\n",
            "Building wheels for collected packages: fake-useragent, parse\n",
            "  Building wheel for fake-useragent (setup.py) ... \u001b[?25l\u001b[?25hdone\n",
            "  Created wheel for fake-useragent: filename=fake_useragent-0.1.11-py3-none-any.whl size=13502 sha256=70158748136583b15f30ee746049aa9246572e27438185b74f59f257efaafb91\n",
            "  Stored in directory: /root/.cache/pip/wheels/ed/f7/62/50ab6c9a0b5567267ab76a9daa9d06315704209b2c5d032031\n",
            "  Building wheel for parse (setup.py) ... \u001b[?25l\u001b[?25hdone\n",
            "  Created wheel for parse: filename=parse-1.19.0-py3-none-any.whl size=24591 sha256=745e0ddc36106d90de66f772b5f9f49f4eb1cb5ea5683ebaa5d7cff9a8890a41\n",
            "  Stored in directory: /root/.cache/pip/wheels/9c/aa/cc/f2228050ccb40f22144b073f15a2c84f11204f29fc0dce028e\n",
            "Successfully built fake-useragent parse\n",
            "Installing collected packages: websockets, urllib3, pyee, cssselect, w3lib, pyquery, pyppeteer, parse, fake-useragent, requests-html\n",
            "  Attempting uninstall: urllib3\n",
            "    Found existing installation: urllib3 1.24.3\n",
            "    Uninstalling urllib3-1.24.3:\n",
            "      Successfully uninstalled urllib3-1.24.3\n",
            "\u001b[31mERROR: pip's dependency resolver does not currently take into account all the packages that are installed. This behaviour is the source of the following dependency conflicts.\n",
            "datascience 0.10.6 requires folium==0.2.1, but you have folium 0.8.3 which is incompatible.\u001b[0m\n",
            "Successfully installed cssselect-1.1.0 fake-useragent-0.1.11 parse-1.19.0 pyee-8.2.2 pyppeteer-0.2.6 pyquery-1.4.3 requests-html-0.10.0 urllib3-1.25.11 w3lib-1.22.0 websockets-9.1\n"
          ]
        },
        {
          "output_type": "display_data",
          "data": {
            "application/vnd.colab-display-data+json": {
              "pip_warning": {
                "packages": [
                  "urllib3"
                ]
              }
            }
          },
          "metadata": {}
        }
      ]
    }
  ]
}