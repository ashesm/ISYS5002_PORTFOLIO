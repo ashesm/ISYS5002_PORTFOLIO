{
  "nbformat": 4,
  "nbformat_minor": 0,
  "metadata": {
    "colab": {
      "name": "Python Sand box.ipynb",
      "provenance": [],
      "authorship_tag": "ABX9TyN97U9jpuy38yL2scwdI8II",
      "include_colab_link": true
    },
    "kernelspec": {
      "name": "python3",
      "display_name": "Python 3"
    },
    "language_info": {
      "name": "python"
    }
  },
  "cells": [
    {
      "cell_type": "markdown",
      "metadata": {
        "id": "view-in-github",
        "colab_type": "text"
      },
      "source": [
        "<a href=\"https://colab.research.google.com/github/ashesm/ISYS5002_PORTFOLIO/blob/main/Python_Sand_box.ipynb\" target=\"_parent\"><img src=\"https://colab.research.google.com/assets/colab-badge.svg\" alt=\"Open In Colab\"/></a>"
      ]
    },
    {
      "cell_type": "markdown",
      "metadata": {
        "id": "Aywp6jdQPTC6"
      },
      "source": [
        "# Algorithm\n",
        " 1. Get the ticker symbol from the user\n",
        " 2. Use the symbol to go to the profile page\n",
        " 3. Get the table\n",
        " * for each row get the page\n",
        " * Use pay to calculate tax\n",
        " * Add Tax to table\n",
        " \n",
        " 4. Save as CSV\n",
        " 5. Save as SQLite"
      ]
    }
  ]
}