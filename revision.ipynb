{
  "nbformat": 4,
  "nbformat_minor": 0,
  "metadata": {
    "colab": {
      "name": "revision.ipynb",
      "provenance": [],
      "authorship_tag": "ABX9TyPjyfGAxIEFcclW/3WyIUtV",
      "include_colab_link": true
    },
    "kernelspec": {
      "name": "python3",
      "display_name": "Python 3"
    },
    "language_info": {
      "name": "python"
    }
  },
  "cells": [
    {
      "cell_type": "markdown",
      "metadata": {
        "id": "view-in-github",
        "colab_type": "text"
      },
      "source": [
        "<a href=\"https://colab.research.google.com/github/ashesm/ISYS5002_PORTFOLIO/blob/main/revision.ipynb\" target=\"_parent\"><img src=\"https://colab.research.google.com/assets/colab-badge.svg\" alt=\"Open In Colab\"/></a>"
      ]
    },
    {
      "cell_type": "code",
      "metadata": {
        "id": "hne-4b4NRAmd"
      },
      "source": [
        ""
      ],
      "execution_count": null,
      "outputs": []
    },
    {
      "cell_type": "code",
      "metadata": {
        "id": "9VaIfghfRjMN"
      },
      "source": [
        ""
      ],
      "execution_count": null,
      "outputs": []
    },
    {
      "cell_type": "markdown",
      "metadata": {
        "id": "poObvJikRHxA"
      },
      "source": [
        "#Exception\n",
        "*try\n",
        "\n",
        "*except\n",
        "\n",
        "*finally\n",
        "\n",
        "useful\n",
        "\n",
        "*file i/o\n",
        "\n",
        "*web scraping\n",
        "\n",
        "*databases"
      ]
    },
    {
      "cell_type": "code",
      "metadata": {
        "colab": {
          "base_uri": "https://localhost:8080/"
        },
        "id": "HZvzzkXGRkST",
        "outputId": "e5865150-cb59-4500-ec82-91c71e96d1df"
      },
      "source": [
        "try:\n",
        " num1 = int(input(\"Please input a number? \"))\n",
        " num2 = int(input(\"Please input another number\"))\n",
        " print(\"Num1 divided by Num2 is\" , num1/num2)\n",
        "except TypeError as e:\n",
        "  print(e)\n",
        "except ValueError as e:\n",
        "  print(\"Please only type in digits, not letters\")\n",
        "except ZeroDivisionError:\n",
        "  print(\"the second number cannot be zero\") "
      ],
      "execution_count": 10,
      "outputs": [
        {
          "output_type": "stream",
          "name": "stdout",
          "text": [
            "Please input a number? 11\n",
            "Please input another number0\n",
            "the second number cannot be zero\n"
          ]
        }
      ]
    },
    {
      "cell_type": "code",
      "metadata": {
        "colab": {
          "base_uri": "https://localhost:8080/"
        },
        "id": "GKST31MvUuGH",
        "outputId": "26a4e888-0c57-4ee3-c73b-a1c9e47e15a8"
      },
      "source": [
        "try:\n",
        " num1 = int(input(\"Please input a number? \"))\n",
        " num2 = int(input(\"Please input another number\"))\n",
        " print(\"Num1 divided by Num2 is\" , num1/num2)\n",
        "except Exception as e: \n",
        " print(e)\n",
        " "
      ],
      "execution_count": 12,
      "outputs": [
        {
          "output_type": "stream",
          "name": "stdout",
          "text": [
            "Please input a number? 11\n",
            "Please input another number0\n",
            "division by zero\n"
          ]
        }
      ]
    },
    {
      "cell_type": "code",
      "metadata": {
        "colab": {
          "base_uri": "https://localhost:8080/"
        },
        "id": "xiMfMsZwVEUJ",
        "outputId": "2f093e0b-5079-4855-ee48-f76b4cfa636e"
      },
      "source": [
        "#if we cant find the error reason:\n",
        "#There is an error on the following line, need to do more research to work out\n",
        "#num1 = int(input(\"Please input a number? \"))\n",
        "num1 = 10\n",
        "num2 = int(input(\"Please input another number\"))\n",
        "print(\"Num1 divided by Num2 is\" , num1/num2)\n"
      ],
      "execution_count": 14,
      "outputs": [
        {
          "output_type": "stream",
          "name": "stdout",
          "text": [
            "Please input another number2\n",
            "Num1 divided by Num2 is 5.0\n"
          ]
        }
      ]
    }
  ]
}