{
  "nbformat": 4,
  "nbformat_minor": 0,
  "metadata": {
    "colab": {
      "name": "tax_calculation.ipynb",
      "provenance": [],
      "include_colab_link": true
    },
    "kernelspec": {
      "name": "python3",
      "display_name": "Python 3"
    },
    "language_info": {
      "name": "python"
    }
  },
  "cells": [
    {
      "cell_type": "markdown",
      "metadata": {
        "id": "view-in-github",
        "colab_type": "text"
      },
      "source": [
        "<a href=\"https://colab.research.google.com/github/ashesm/ISYS5002_PORTFOLIO/blob/main/tax_calculation.ipynb\" target=\"_parent\"><img src=\"https://colab.research.google.com/assets/colab-badge.svg\" alt=\"Open In Colab\"/></a>"
      ]
    },
    {
      "cell_type": "markdown",
      "metadata": {
        "id": "bVMwNyExqHgH"
      },
      "source": [
        "Write a program the prompts the user for their income and caclualtes the tax payable.\n",
        "\n",
        "[Resident tax rates 2021–22\n",
        "Taxable income](https://www.ato.gov.au/rates/individual-income-tax-rates/)\n",
        "\n",
        "Income            | Tax on this income \n",
        "------------------|----------------------\n",
        "0 – \\$18,200       | Nil\n",
        "\\$18,201 – \\$45,000 | 19 cents for each \\$1 over \\$18,200\n",
        "\\$45,001 – \\$120,000 | \\$5,092 plus 32.5 cents for each \\$1 over \\$45,000\n",
        "\\$120,001 – \\$180,000 |  \\$29,467 plus 37 cents for each \\$1 over \\$120,000\n",
        "\\$180,001 and over | \\$51,667 plus 45 cents for each \\$1 over \\$180,000\n",
        "\n"
      ]
    },
    {
      "cell_type": "code",
      "metadata": {
        "id": "BSQnuKQvr-zw"
      },
      "source": [
        ""
      ],
      "execution_count": null,
      "outputs": []
    },
    {
      "cell_type": "markdown",
      "metadata": {
        "id": "V56SJ2aqZKAa"
      },
      "source": [
        "Steps\n",
        "1. Get the income\n",
        "2. Calculate the tax payable"
      ]
    },
    {
      "cell_type": "code",
      "metadata": {
        "colab": {
          "base_uri": "https://localhost:8080/"
        },
        "id": "xgDDrNBJZRzt",
        "outputId": "96ba03cd-2608-4815-aaf2-de0a65104070"
      },
      "source": [
        "# get the income\n",
        "income = int(input(\"What is your income for the year? \"))\n",
        "print(income)"
      ],
      "execution_count": 19,
      "outputs": [
        {
          "output_type": "stream",
          "name": "stdout",
          "text": [
            "What is your income for the year? 18200\n",
            "18200\n"
          ]
        }
      ]
    },
    {
      "cell_type": "code",
      "metadata": {
        "colab": {
          "base_uri": "https://localhost:8080/"
        },
        "id": "08mNXjLEh9GJ",
        "outputId": "1832112e-cb26-4029-fc32-1183165171ef"
      },
      "source": [
        "# Step1 - get the income\n",
        "income = int(input(\"What is your income for the year? \"))\n",
        "print(\"Your income is \",income)\n",
        "# Step 2 - Calculate the tax payable\n",
        "# if you earn $18200, then pay no tax\n",
        "# else if you earn between $18,201 – $45,000,\n",
        "# then pay 19 cents for eavy dollar over 18,200\n",
        "\n",
        "if income <= 18200:\n",
        "  tax_payable = 0\n",
        "elif 18200 < income <= 45000:\n",
        "  tax_payable = 0.19 * (income - 18200)\n",
        "elif 45000 < income < 120000:\n",
        "  tax_payable = 5092 + 0.32 * (income - 45000)\n",
        "\n",
        "\n",
        "print(\"Your tax payable is \",tax_payable)"
      ],
      "execution_count": 3,
      "outputs": [
        {
          "output_type": "stream",
          "name": "stdout",
          "text": [
            "What is your income for the year? 45001\n",
            "Your income is  45001\n",
            "Your tax payable is  5092.32\n"
          ]
        }
      ]
    },
    {
      "cell_type": "code",
      "metadata": {
        "id": "sSJjxbK3m_lQ"
      },
      "source": [
        ""
      ],
      "execution_count": null,
      "outputs": []
    },
    {
      "cell_type": "code",
      "metadata": {
        "id": "C3IFs1V3mYJH"
      },
      "source": [
        "def get_income():\n",
        "  '''\n",
        "  This finction will promtp the user for the income\n",
        "  and return the value\n",
        "  '''\n",
        " income = int(input(\"What is your income for the year? \"))\n",
        " print(\"Your income is \",income)\n",
        " return income\n"
      ],
      "execution_count": null,
      "outputs": []
    },
    {
      "cell_type": "code",
      "metadata": {
        "id": "POG-d0kBnAch"
      },
      "source": [
        "def calculate_tax(income):\n",
        "  if income <= 18200:\n",
        "  tax_payable = 0\n",
        "elif 18200 < income <= 45000:\n",
        "  tax_payable = 0.19 * (income - 18200)\n",
        "elif 45000 < income < 120000:\n",
        "  tax_payable = 5092 + 0.32 * (income - 45000)\n",
        "\n",
        "  return tax_payable"
      ],
      "execution_count": null,
      "outputs": []
    },
    {
      "cell_type": "code",
      "metadata": {
        "id": "x5hbJc6bnRWb"
      },
      "source": [
        "#Main Line\n",
        "\n",
        "#Step 1\n",
        "income = get_income()\n",
        "\n",
        "#Step 2\n",
        "tax = calculate_tax(income)\n",
        "\n",
        "print(\"Your tax payable is \", tax)"
      ],
      "execution_count": null,
      "outputs": []
    }
  ]
}